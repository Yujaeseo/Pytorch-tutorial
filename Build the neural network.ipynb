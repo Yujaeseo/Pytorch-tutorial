{
 "cells": [
  {
   "cell_type": "markdown",
   "id": "8b86bf72",
   "metadata": {},
   "source": [
    "# Build the neural network"
   ]
  },
  {
   "cell_type": "code",
   "execution_count": 2,
   "id": "d03016da",
   "metadata": {},
   "outputs": [],
   "source": [
    "import os\n",
    "import torch \n",
    "from torch import nn\n",
    "from torch.utils.data import DataLoader\n",
    "from torchvision import datasets, transforms"
   ]
  },
  {
   "cell_type": "markdown",
   "id": "95372508",
   "metadata": {},
   "source": [
    "## 1.Get device for training"
   ]
  },
  {
   "cell_type": "code",
   "execution_count": 4,
   "id": "f5064b70",
   "metadata": {},
   "outputs": [],
   "source": [
    "device = 'cuda' if torch.cuda.is_available() else 'cpu'"
   ]
  },
  {
   "cell_type": "code",
   "execution_count": 6,
   "id": "acb95829",
   "metadata": {},
   "outputs": [
    {
     "name": "stdout",
     "output_type": "stream",
     "text": [
      "Using cuda device\n"
     ]
    }
   ],
   "source": [
    "print('Using {} device'.format(device))"
   ]
  },
  {
   "cell_type": "code",
   "execution_count": 34,
   "id": "58f1a922",
   "metadata": {},
   "outputs": [],
   "source": [
    "class NeuralNetwork(nn.Module):\n",
    "    def  __init__(self):\n",
    "        super(NeuralNetwork, self).__init__()\n",
    "        # convert image into 784 pixel value\n",
    "        self.flatten = nn.Flatten()\n",
    "        # orderded container of modules\n",
    "        self.linear_relu_stack = nn.Sequential(\n",
    "            nn.Linear(28*28, 512),\n",
    "            nn.ReLU(),# introduce non-linearity\n",
    "            nn.Linear(512, 512),\n",
    "            nn.ReLU(), # introduce non-linearity\n",
    "            nn.Linear(512, 10)\n",
    "        )\n",
    "        \n",
    "    def forward(self, x):\n",
    "        x = self.flatten(x)\n",
    "        logits = self.linear_relu_stack(x)\n",
    "        return logits"
   ]
  },
  {
   "cell_type": "code",
   "execution_count": 35,
   "id": "04f7c720",
   "metadata": {},
   "outputs": [],
   "source": [
    "model = NeuralNetwork().to(device)"
   ]
  },
  {
   "cell_type": "code",
   "execution_count": 45,
   "id": "1c8a357c",
   "metadata": {},
   "outputs": [],
   "source": [
    "X = torch.rand(1, 28, 28, device=device)\n",
    "logits = model(X)\n",
    "# Probs for each class\n",
    "pred_prob = nn.Softmax(dim = 1)(logits)\n",
    "y_pred = pred_prob.argmax(1)"
   ]
  },
  {
   "cell_type": "code",
   "execution_count": 46,
   "id": "fc5b7270",
   "metadata": {},
   "outputs": [
    {
     "data": {
      "text/plain": [
       "tensor([6], device='cuda:0')"
      ]
     },
     "execution_count": 46,
     "metadata": {},
     "output_type": "execute_result"
    }
   ],
   "source": [
    "y_pred"
   ]
  },
  {
   "cell_type": "code",
   "execution_count": 47,
   "id": "e8c6af47",
   "metadata": {
    "scrolled": false
   },
   "outputs": [
    {
     "data": {
      "text/plain": [
       "tensor([[ 0.0423,  0.0350, -0.0435,  0.0718, -0.0588, -0.0545,  0.0742, -0.0573,\n",
       "         -0.0729,  0.0156]], device='cuda:0', grad_fn=<AddmmBackward>)"
      ]
     },
     "execution_count": 47,
     "metadata": {},
     "output_type": "execute_result"
    }
   ],
   "source": [
    "logits"
   ]
  },
  {
   "cell_type": "code",
   "execution_count": 48,
   "id": "039dbbac",
   "metadata": {
    "scrolled": true
   },
   "outputs": [
    {
     "data": {
      "text/plain": [
       "tensor([[0.1047, 0.1039, 0.0961, 0.1078, 0.0946, 0.0950, 0.1081, 0.0947, 0.0933,\n",
       "         0.1019]], device='cuda:0', grad_fn=<SoftmaxBackward>)"
      ]
     },
     "execution_count": 48,
     "metadata": {},
     "output_type": "execute_result"
    }
   ],
   "source": [
    "pred_prob"
   ]
  },
  {
   "cell_type": "code",
   "execution_count": 49,
   "id": "12cee27b",
   "metadata": {},
   "outputs": [
    {
     "name": "stdout",
     "output_type": "stream",
     "text": [
      "Model structure:  NeuralNetwork(\n",
      "  (flatten): Flatten(start_dim=1, end_dim=-1)\n",
      "  (linear_relu_stack): Sequential(\n",
      "    (0): Linear(in_features=784, out_features=512, bias=True)\n",
      "    (1): ReLU()\n",
      "    (2): Linear(in_features=512, out_features=512, bias=True)\n",
      "    (3): ReLU()\n",
      "    (4): Linear(in_features=512, out_features=10, bias=True)\n",
      "  )\n",
      ")\n"
     ]
    }
   ],
   "source": [
    "print(\"Model structure: \", model)"
   ]
  },
  {
   "cell_type": "code",
   "execution_count": 52,
   "id": "6730b264",
   "metadata": {},
   "outputs": [
    {
     "name": "stdout",
     "output_type": "stream",
     "text": [
      "layer : linear_relu_stack.0.weight | size : torch.Size([512, 784]) | values tensor([[ 0.0242,  0.0342,  0.0293,  ..., -0.0103, -0.0079,  0.0133],\n",
      "        [-0.0317, -0.0150, -0.0143,  ...,  0.0347,  0.0227,  0.0053]],\n",
      "       device='cuda:0', grad_fn=<SliceBackward>)\n",
      "layer : linear_relu_stack.0.bias | size : torch.Size([512]) | values tensor([-0.0036,  0.0103], device='cuda:0', grad_fn=<SliceBackward>)\n",
      "layer : linear_relu_stack.2.weight | size : torch.Size([512, 512]) | values tensor([[-0.0235,  0.0161, -0.0279,  ...,  0.0176,  0.0213, -0.0114],\n",
      "        [ 0.0122,  0.0305, -0.0369,  ...,  0.0375, -0.0067,  0.0272]],\n",
      "       device='cuda:0', grad_fn=<SliceBackward>)\n",
      "layer : linear_relu_stack.2.bias | size : torch.Size([512]) | values tensor([0.0340, 0.0047], device='cuda:0', grad_fn=<SliceBackward>)\n",
      "layer : linear_relu_stack.4.weight | size : torch.Size([10, 512]) | values tensor([[-0.0246,  0.0337,  0.0405,  ...,  0.0278,  0.0405,  0.0202],\n",
      "        [-0.0355, -0.0214, -0.0134,  ...,  0.0190,  0.0175,  0.0165]],\n",
      "       device='cuda:0', grad_fn=<SliceBackward>)\n",
      "layer : linear_relu_stack.4.bias | size : torch.Size([10]) | values tensor([0.0263, 0.0135], device='cuda:0', grad_fn=<SliceBackward>)\n"
     ]
    }
   ],
   "source": [
    "for name, param in model.named_parameters():\n",
    "    print('layer : {} | size : {} | values {}'.format(name, param.size(), param[:2]))"
   ]
  }
 ],
 "metadata": {
  "kernelspec": {
   "display_name": "MPT_kernel",
   "language": "python",
   "name": "mpt"
  },
  "language_info": {
   "codemirror_mode": {
    "name": "ipython",
    "version": 3
   },
   "file_extension": ".py",
   "mimetype": "text/x-python",
   "name": "python",
   "nbconvert_exporter": "python",
   "pygments_lexer": "ipython3",
   "version": "3.9.7"
  }
 },
 "nbformat": 4,
 "nbformat_minor": 5
}
