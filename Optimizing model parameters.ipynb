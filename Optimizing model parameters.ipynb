{
 "cells": [
  {
   "cell_type": "markdown",
   "id": "c29ba058",
   "metadata": {},
   "source": [
    "# Optimizing model parameters"
   ]
  },
  {
   "cell_type": "markdown",
   "id": "a3f93520",
   "metadata": {},
   "source": [
    "## 1. Data load and build model"
   ]
  },
  {
   "cell_type": "code",
   "execution_count": 3,
   "id": "8c3315be",
   "metadata": {},
   "outputs": [],
   "source": [
    "import torch\n",
    "from torch import nn\n",
    "from torch.utils.data import DataLoader\n",
    "from torchvision import datasets\n",
    "from torchvision.transforms import ToTensor, Lambda"
   ]
  },
  {
   "cell_type": "code",
   "execution_count": 5,
   "id": "4268ed9e",
   "metadata": {},
   "outputs": [],
   "source": [
    "training_data = datasets.FashionMNIST(\n",
    "    root=\"./\",\n",
    "    train=True,\n",
    "    download=True,\n",
    "    transform=ToTensor()\n",
    ")"
   ]
  },
  {
   "cell_type": "code",
   "execution_count": 6,
   "id": "3a445e56",
   "metadata": {},
   "outputs": [],
   "source": [
    "test_data = datasets.FashionMNIST(\n",
    "    root=\"./\",\n",
    "    train=False,\n",
    "    download=True,\n",
    "    transform=ToTensor()\n",
    ")"
   ]
  },
  {
   "cell_type": "code",
   "execution_count": 7,
   "id": "0e335551",
   "metadata": {},
   "outputs": [],
   "source": [
    "train_dataloader = DataLoader(training_data, batch_size=64)\n",
    "test_dataloader = DataLoader(test_data, batch_size=64)"
   ]
  },
  {
   "cell_type": "code",
   "execution_count": 8,
   "id": "d3e3fe25",
   "metadata": {},
   "outputs": [],
   "source": [
    "class NeuralNetwork(nn.Module):\n",
    "    def __init__(self):\n",
    "        super(NeuralNetwork, self).__init__()\n",
    "        self.flatten = nn.Flatten()\n",
    "        self.linear_relu_stack = nn.Sequential(\n",
    "            nn.Linear(28*28, 512),\n",
    "            nn.ReLU(),\n",
    "            nn.Linear(512, 512),\n",
    "            nn.ReLU(),\n",
    "            nn.Linear(512, 10),\n",
    "        )\n",
    "\n",
    "    def forward(self, x):\n",
    "        x = self.flatten(x)\n",
    "        logits = self.linear_relu_stack(x)\n",
    "        return logits"
   ]
  },
  {
   "cell_type": "code",
   "execution_count": 9,
   "id": "c9b1c3dd",
   "metadata": {},
   "outputs": [],
   "source": [
    "model = NeuralNetwork()"
   ]
  },
  {
   "cell_type": "code",
   "execution_count": 10,
   "id": "1dd6cbb3",
   "metadata": {},
   "outputs": [],
   "source": [
    "# Hyperparameters\n",
    "learning_rate = 1e-3\n",
    "batch_size = 64\n",
    "epochs = 5"
   ]
  },
  {
   "cell_type": "code",
   "execution_count": 14,
   "id": "c700ac29",
   "metadata": {},
   "outputs": [],
   "source": [
    "# Loss function\n",
    "loss_fn = nn.CrossEntropyLoss()"
   ]
  },
  {
   "cell_type": "code",
   "execution_count": 15,
   "id": "3ea91ad9",
   "metadata": {},
   "outputs": [],
   "source": [
    "# Optimizer\n",
    "optimizer = torch.optim.SGD(model.parameters(), lr=learning_rate)"
   ]
  },
  {
   "cell_type": "markdown",
   "id": "e0b50ad3",
   "metadata": {},
   "source": [
    "# 2. Optimization"
   ]
  },
  {
   "cell_type": "code",
   "execution_count": 19,
   "id": "ae1e081c",
   "metadata": {},
   "outputs": [],
   "source": [
    "def train_loop(dataloader, model, loss_fn, optimizer):\n",
    "    size = len(dataloader.dataset)\n",
    "    for batch, (X, y) in enumerate(dataloader):\n",
    "        pred = model(X)\n",
    "        loss = loss_fn(pred, y)\n",
    "        \n",
    "        optimizer.zero_grad()\n",
    "        loss.backward()\n",
    "        optimizer.step()\n",
    "        \n",
    "        if batch % 100 == 0:\n",
    "            loss, current = loss.item(), batch * len(X)\n",
    "            print(f\"loss: {loss:>7f}  [{current:>5d}/{size:>5d}]\")"
   ]
  },
  {
   "cell_type": "code",
   "execution_count": 21,
   "id": "1750e490",
   "metadata": {},
   "outputs": [],
   "source": [
    "def test_loop(dataloader, model, loss_fn):\n",
    "    size = len(dataloader.dataset)\n",
    "    num_batches = len(dataloader)\n",
    "    test_loss, correct = 0, 0\n",
    "\n",
    "    with torch.no_grad():\n",
    "        for X, y in dataloader:\n",
    "            pred = model(X)\n",
    "            test_loss += loss_fn(pred, y).item()\n",
    "            correct += (pred.argmax(1) == y).type(torch.float).sum().item()\n",
    "\n",
    "    test_loss /= num_batches\n",
    "    correct /= size\n",
    "    print(f\"Test Error: \\n Accuracy: {(100*correct):>0.1f}%, Avg loss: {test_loss:>8f} \\n\")"
   ]
  },
  {
   "cell_type": "code",
   "execution_count": 22,
   "id": "219c9eda",
   "metadata": {},
   "outputs": [
    {
     "name": "stdout",
     "output_type": "stream",
     "text": [
      "Epoch 1\n",
      "-------------------------------\n",
      "loss: 2.162158  [    0/60000]\n",
      "loss: 2.149028  [ 6400/60000]\n",
      "loss: 2.102813  [12800/60000]\n",
      "loss: 2.125769  [19200/60000]\n",
      "loss: 2.071686  [25600/60000]\n",
      "loss: 2.009329  [32000/60000]\n",
      "loss: 2.036908  [38400/60000]\n",
      "loss: 1.956663  [44800/60000]\n",
      "loss: 1.960252  [51200/60000]\n",
      "loss: 1.901116  [57600/60000]\n",
      "Test Error: \n",
      " Accuracy: 58.9%, Avg loss: 1.895344 \n",
      "\n",
      "Epoch 2\n",
      "-------------------------------\n",
      "loss: 1.927802  [    0/60000]\n",
      "loss: 1.893614  [ 6400/60000]\n",
      "loss: 1.788570  [12800/60000]\n",
      "loss: 1.831208  [19200/60000]\n",
      "loss: 1.732281  [25600/60000]\n",
      "loss: 1.670604  [32000/60000]\n",
      "loss: 1.688879  [38400/60000]\n",
      "loss: 1.587243  [44800/60000]\n",
      "loss: 1.612317  [51200/60000]\n",
      "loss: 1.509562  [57600/60000]\n",
      "Test Error: \n",
      " Accuracy: 62.5%, Avg loss: 1.528053 \n",
      "\n",
      "Epoch 3\n",
      "-------------------------------\n",
      "loss: 1.595912  [    0/60000]\n",
      "loss: 1.552739  [ 6400/60000]\n",
      "loss: 1.411792  [12800/60000]\n",
      "loss: 1.485702  [19200/60000]\n",
      "loss: 1.375539  [25600/60000]\n",
      "loss: 1.355708  [32000/60000]\n",
      "loss: 1.362542  [38400/60000]\n",
      "loss: 1.285545  [44800/60000]\n",
      "loss: 1.327967  [51200/60000]\n",
      "loss: 1.223524  [57600/60000]\n",
      "Test Error: \n",
      " Accuracy: 63.4%, Avg loss: 1.255148 \n",
      "\n",
      "Epoch 4\n",
      "-------------------------------\n",
      "loss: 1.333186  [    0/60000]\n",
      "loss: 1.307854  [ 6400/60000]\n",
      "loss: 1.151548  [12800/60000]\n",
      "loss: 1.259396  [19200/60000]\n",
      "loss: 1.143344  [25600/60000]\n",
      "loss: 1.153677  [32000/60000]\n",
      "loss: 1.166292  [38400/60000]\n",
      "loss: 1.103865  [44800/60000]\n",
      "loss: 1.152099  [51200/60000]\n",
      "loss: 1.063403  [57600/60000]\n",
      "Test Error: \n",
      " Accuracy: 64.5%, Avg loss: 1.089356 \n",
      "\n",
      "Epoch 5\n",
      "-------------------------------\n",
      "loss: 1.160510  [    0/60000]\n",
      "loss: 1.156365  [ 6400/60000]\n",
      "loss: 0.984401  [12800/60000]\n",
      "loss: 1.120268  [19200/60000]\n",
      "loss: 1.005057  [25600/60000]\n",
      "loss: 1.021307  [32000/60000]\n",
      "loss: 1.048919  [38400/60000]\n",
      "loss: 0.991214  [44800/60000]\n",
      "loss: 1.039975  [51200/60000]\n",
      "loss: 0.965210  [57600/60000]\n",
      "Test Error: \n",
      " Accuracy: 65.7%, Avg loss: 0.984066 \n",
      "\n",
      "Epoch 6\n",
      "-------------------------------\n",
      "loss: 1.041558  [    0/60000]\n",
      "loss: 1.059809  [ 6400/60000]\n",
      "loss: 0.871781  [12800/60000]\n",
      "loss: 1.028507  [19200/60000]\n",
      "loss: 0.920194  [25600/60000]\n",
      "loss: 0.928811  [32000/60000]\n",
      "loss: 0.973374  [38400/60000]\n",
      "loss: 0.918930  [44800/60000]\n",
      "loss: 0.963209  [51200/60000]\n",
      "loss: 0.899561  [57600/60000]\n",
      "Test Error: \n",
      " Accuracy: 67.2%, Avg loss: 0.912630 \n",
      "\n",
      "Epoch 7\n",
      "-------------------------------\n",
      "loss: 0.954527  [    0/60000]\n",
      "loss: 0.993677  [ 6400/60000]\n",
      "loss: 0.791703  [12800/60000]\n",
      "loss: 0.963789  [19200/60000]\n",
      "loss: 0.863536  [25600/60000]\n",
      "loss: 0.861208  [32000/60000]\n",
      "loss: 0.920576  [38400/60000]\n",
      "loss: 0.870493  [44800/60000]\n",
      "loss: 0.908037  [51200/60000]\n",
      "loss: 0.851683  [57600/60000]\n",
      "Test Error: \n",
      " Accuracy: 68.0%, Avg loss: 0.860992 \n",
      "\n",
      "Epoch 8\n",
      "-------------------------------\n",
      "loss: 0.887785  [    0/60000]\n",
      "loss: 0.943996  [ 6400/60000]\n",
      "loss: 0.731742  [12800/60000]\n",
      "loss: 0.915644  [19200/60000]\n",
      "loss: 0.822380  [25600/60000]\n",
      "loss: 0.809704  [32000/60000]\n",
      "loss: 0.880291  [38400/60000]\n",
      "loss: 0.836452  [44800/60000]\n",
      "loss: 0.866467  [51200/60000]\n",
      "loss: 0.814368  [57600/60000]\n",
      "Test Error: \n",
      " Accuracy: 69.3%, Avg loss: 0.821576 \n",
      "\n",
      "Epoch 9\n",
      "-------------------------------\n",
      "loss: 0.834181  [    0/60000]\n",
      "loss: 0.903872  [ 6400/60000]\n",
      "loss: 0.684559  [12800/60000]\n",
      "loss: 0.878342  [19200/60000]\n",
      "loss: 0.790347  [25600/60000]\n",
      "loss: 0.769367  [32000/60000]\n",
      "loss: 0.847473  [38400/60000]\n",
      "loss: 0.811130  [44800/60000]\n",
      "loss: 0.833928  [51200/60000]\n",
      "loss: 0.784191  [57600/60000]\n",
      "Test Error: \n",
      " Accuracy: 70.5%, Avg loss: 0.790072 \n",
      "\n",
      "Epoch 10\n",
      "-------------------------------\n",
      "loss: 0.789500  [    0/60000]\n",
      "loss: 0.869773  [ 6400/60000]\n",
      "loss: 0.646062  [12800/60000]\n",
      "loss: 0.848603  [19200/60000]\n",
      "loss: 0.764191  [25600/60000]\n",
      "loss: 0.737168  [32000/60000]\n",
      "loss: 0.819618  [38400/60000]\n",
      "loss: 0.791075  [44800/60000]\n",
      "loss: 0.807608  [51200/60000]\n",
      "loss: 0.758887  [57600/60000]\n",
      "Test Error: \n",
      " Accuracy: 71.9%, Avg loss: 0.763925 \n",
      "\n",
      "Done!\n"
     ]
    }
   ],
   "source": [
    "epochs = 10\n",
    "for t in range(epochs):\n",
    "    print(f\"Epoch {t+1}\\n-------------------------------\")\n",
    "    train_loop(train_dataloader, model, loss_fn, optimizer)\n",
    "    test_loop(test_dataloader, model, loss_fn)\n",
    "print(\"Done!\")"
   ]
  },
  {
   "cell_type": "code",
   "execution_count": null,
   "id": "e6c9b7ff",
   "metadata": {},
   "outputs": [],
   "source": []
  }
 ],
 "metadata": {
  "kernelspec": {
   "display_name": "MPT_kernel",
   "language": "python",
   "name": "mpt"
  },
  "language_info": {
   "codemirror_mode": {
    "name": "ipython",
    "version": 3
   },
   "file_extension": ".py",
   "mimetype": "text/x-python",
   "name": "python",
   "nbconvert_exporter": "python",
   "pygments_lexer": "ipython3",
   "version": "3.9.7"
  }
 },
 "nbformat": 4,
 "nbformat_minor": 5
}
